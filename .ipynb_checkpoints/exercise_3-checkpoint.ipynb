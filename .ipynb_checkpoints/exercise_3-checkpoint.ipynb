{
 "cells": [
  {
   "cell_type": "markdown",
   "metadata": {},
   "source": [
    "## Word Count (Map Reduce)\n",
    "Using map reduce to count word frequency.\n",
    "Input:<br />\n",
    "    chunk1: \"Google Bye GoodBye Hadoop code\"<br />\n",
    "    chunk2: \"lintcode code Bye\"<br />\n",
    "\n",
    "Output:<br />\n",
    "    Bye: 2 <br />\n",
    "    GoodBye: 1 <br />\n",
    "    Google: 1 <br />\n",
    "    Hadoop: 1 <br />\n",
    "    code: 2 <br />\n",
    "    lintcode: 1 <br />"
   ]
  },
  {
   "cell_type": "code",
   "execution_count": 22,
   "metadata": {},
   "outputs": [],
   "source": [
    "class WordCount:\n",
    "\n",
    "    # @param {str} line a text, for example \"Bye Bye see you next\"\n",
    "    def mapper(self, line):\n",
    "        # Write your code here\n",
    "        # Please use 'yield key, value'\n",
    "        for i in line.split():\n",
    "            yield i, 1\n",
    "            \n",
    "\n",
    "\n",
    "    # @param key is from mapper\n",
    "    # @param values is a set of value with the same key\n",
    "    def reducer(self, key, values):\n",
    "        # Write your code here\n",
    "        # Please use 'yield key, value'\n",
    "        yield key, sum(values)\n"
   ]
  },
  {
   "cell_type": "markdown",
   "metadata": {},
   "source": [
    "## Valid Palindrome\n",
    "Given a string, determine if it is a palindrome, considering only alphanumeric characters and ignoring cases.<br />\n",
    "Input: \"A man, a plan, a canal: Panama\" <br />\n",
    "Output: true<br />\n",
    "Explanation: \"amanaplanacanalpanama\"<br />"
   ]
  },
  {
   "cell_type": "code",
   "execution_count": 34,
   "metadata": {},
   "outputs": [],
   "source": [
    "def isPalindrome(s):\n",
    "    str=''.join([i for i in s if i.isalnum()]).lower()\n",
    "    result = True\n",
    "    p_1 = 0;\n",
    "    p_2 = len(str)-1\n",
    "    while p_1 < p_2:\n",
    "        if str[p_1] != str[p_2]:\n",
    "            result = False\n",
    "            return result\n",
    "        p_1 +=1 \n",
    "        p_2 -=1\n",
    "    \n",
    "    return result"
   ]
  },
  {
   "cell_type": "code",
   "execution_count": 35,
   "metadata": {},
   "outputs": [
    {
     "data": {
      "text/plain": [
       "True"
      ]
     },
     "execution_count": 35,
     "metadata": {},
     "output_type": "execute_result"
    }
   ],
   "source": [
    "isPalindrome('A man, a plan, a canal: Panama')"
   ]
  },
  {
   "cell_type": "markdown",
   "metadata": {},
   "source": [
    "## Reverse Words in a String\n",
    "Given an input string, reverse the string word by word. <br />\n",
    "Example 1: <br />\n",
    "\tInput:  \"the sky is blue\"<br />\n",
    "\tOutput:  \"blue is sky the\"<br />\n",
    "\t\n",
    "\tExplanation: \n",
    "\treturn a reverse the string word by word.\n"
   ]
  },
  {
   "cell_type": "code",
   "execution_count": 41,
   "metadata": {},
   "outputs": [],
   "source": [
    "def reverseWords(s):\n",
    "    s_list = s.split()[::-1]\n",
    "    str = ' '.join(s_list)\n",
    "    return str"
   ]
  },
  {
   "cell_type": "code",
   "execution_count": 42,
   "metadata": {},
   "outputs": [
    {
     "data": {
      "text/plain": [
       "'blue is sky the'"
      ]
     },
     "execution_count": 42,
     "metadata": {},
     "output_type": "execute_result"
    }
   ],
   "source": [
    "reverseWords('the sky is blue')"
   ]
  },
  {
   "cell_type": "code",
   "execution_count": null,
   "metadata": {},
   "outputs": [],
   "source": []
  }
 ],
 "metadata": {
  "kernelspec": {
   "display_name": "Python 3",
   "language": "python",
   "name": "python3"
  },
  "language_info": {
   "codemirror_mode": {
    "name": "ipython",
    "version": 3
   },
   "file_extension": ".py",
   "mimetype": "text/x-python",
   "name": "python",
   "nbconvert_exporter": "python",
   "pygments_lexer": "ipython3",
   "version": "3.8.2"
  }
 },
 "nbformat": 4,
 "nbformat_minor": 4
}
