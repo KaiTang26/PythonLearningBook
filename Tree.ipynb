{
 "cells": [
  {
   "cell_type": "markdown",
   "metadata": {},
   "source": [
    "# 5.1 Tree & Binary Tree"
   ]
  },
  {
   "cell_type": "markdown",
   "metadata": {},
   "source": [
    "### 5.1.1: create a Binary Tree && DFS Traversal"
   ]
  },
  {
   "cell_type": "code",
   "execution_count": 13,
   "metadata": {},
   "outputs": [
    {
     "name": "stdout",
     "output_type": "stream",
     "text": [
      "pre_order\n",
      "1\n",
      "2\n",
      "4\n",
      "5\n",
      "3\n",
      "in_order\n",
      "4\n",
      "2\n",
      "5\n",
      "1\n",
      "3\n",
      "post_order\n",
      "4\n",
      "5\n",
      "2\n",
      "3\n",
      "1\n"
     ]
    }
   ],
   "source": [
    "# create TreeNode\n",
    "\n",
    "class TreeNode:\n",
    "    \n",
    "    def __init__(self, val):\n",
    "        self.val = val\n",
    "        self.left = None\n",
    "        self.right = None\n",
    "        \n",
    "# Create Binary search Tree\n",
    "\n",
    "\n",
    "\n",
    "node_1 = TreeNode(1)\n",
    "node_2 = TreeNode(2)\n",
    "node_3 = TreeNode(3)\n",
    "node_4 = TreeNode(4)\n",
    "node_5 = TreeNode(5)\n",
    "\n",
    "node_1.left = node_2\n",
    "node_1.right = node_3\n",
    "node_2.left = node_4\n",
    "node_2.right = node_5\n",
    "\n",
    "def preorder_DFS(node):\n",
    "    if node is None:\n",
    "        return\n",
    "    else:\n",
    "        print(node.val)\n",
    "        preorder_DFS(node.left)\n",
    "        preorder_DFS(node.right)\n",
    "\n",
    "def inorder_DFS(node):\n",
    "    if node is None:\n",
    "        return\n",
    "    else:\n",
    "        inorder_DFS(node.left)\n",
    "        print(node.val)\n",
    "        inorder_DFS(node.right)\n",
    "\n",
    "def postorder_DFS(node):\n",
    "    if node is None:\n",
    "        return\n",
    "    else:\n",
    "        postorder_DFS(node.left)\n",
    "        postorder_DFS(node.right)\n",
    "        print(node.val)\n",
    "        \n",
    "print('pre_order')\n",
    "preorder_DFS(node_1)\n",
    "print('in_order')\n",
    "inorder_DFS(node_1)\n",
    "print('post_order')\n",
    "postorder_DFS(node_1)"
   ]
  },
  {
   "cell_type": "markdown",
   "metadata": {},
   "source": [
    "### 5.1.2:  BFS Traversal"
   ]
  },
  {
   "cell_type": "code",
   "execution_count": 16,
   "metadata": {},
   "outputs": [
    {
     "name": "stdout",
     "output_type": "stream",
     "text": [
      "[1, 2, 3, 4, 5]\n",
      "[[1], [2, 3], [4, 5]]\n"
     ]
    }
   ],
   "source": [
    "class TreeNode:\n",
    "    \n",
    "    def __init__(self, val):\n",
    "        self.val = val\n",
    "        self.left = None\n",
    "        self.right = None\n",
    "        \n",
    "# Create Binary search Tree\n",
    "\n",
    "\n",
    "\n",
    "node_1 = TreeNode(1)\n",
    "node_2 = TreeNode(2)\n",
    "node_3 = TreeNode(3)\n",
    "node_4 = TreeNode(4)\n",
    "node_5 = TreeNode(5)\n",
    "\n",
    "node_1.left = node_2\n",
    "node_1.right = node_3\n",
    "node_2.left = node_4\n",
    "node_2.right = node_5\n",
    "\n",
    "from queue import Queue\n",
    "\n",
    "\n",
    "def BFS(root):\n",
    "    \n",
    "    result = []\n",
    "    \n",
    "    que = Queue()\n",
    "    que.put(root)\n",
    "    \n",
    "    while not que.empty():\n",
    "        node = que.get()\n",
    "        result.append(node.val)\n",
    "        \n",
    "        if node.left is not None:\n",
    "            que.put(node.left)\n",
    "        if node.right is not None:\n",
    "            que.put(node.right)\n",
    "            \n",
    "    return result\n",
    "\n",
    "print(BFS(node_1))\n",
    "\n",
    "def BFS_bylayer(root):\n",
    "    result = []\n",
    "    que = Queue()\n",
    "    que.put(root)\n",
    "    \n",
    "    while not que.empty():\n",
    "        \n",
    "        node_no = que.qsize()\n",
    "        per_lever = []\n",
    "        \n",
    "        for i in range(node_no):\n",
    "            node = que.get()\n",
    "            per_lever.append(node.val)\n",
    "            if node.left:\n",
    "                que.put(node.left)\n",
    "            if node.right:\n",
    "                que.put(node.right)\n",
    "        \n",
    "        result.append(per_lever)       \n",
    "    return result\n",
    "\n",
    "\n",
    "print(BFS_bylayer(node_1))    \n",
    "    "
   ]
  },
  {
   "cell_type": "markdown",
   "metadata": {},
   "source": [
    "### 5.1.3 Binary Search Tree and operation\n",
    "* insert\n",
    "* find\n",
    "* delete\n"
   ]
  },
  {
   "cell_type": "code",
   "execution_count": 29,
   "metadata": {},
   "outputs": [
    {
     "name": "stdout",
     "output_type": "stream",
     "text": [
      "True\n"
     ]
    }
   ],
   "source": [
    "class TreeNode:\n",
    "    \n",
    "    def __init__(self, val):\n",
    "        self.val = val\n",
    "        self.left = None\n",
    "        self.right = None\n",
    "        \n",
    "class BinarySearchTree:\n",
    "    \n",
    "    def __init__(self):\n",
    "        self.__root = None\n",
    "        \n",
    "    def add(self, val):\n",
    "        \n",
    "        self.__root = self.__add_helper(self.__root, val)\n",
    "    \n",
    "    def __add_helper(self, node, val):\n",
    "        \n",
    "        if not node:\n",
    "            return TreeNode(val)\n",
    "        elif node.val > val:\n",
    "            node.left = self.__add_helper(node.left, val)\n",
    "        elif node.val < val:\n",
    "            node.right = self.__add_helper(node.right, val)\n",
    "        return node\n",
    "    \n",
    "    def find(self, val):\n",
    "        \n",
    "        return self.__find_helper(self.__root, val)\n",
    "    \n",
    "    def __find_helper(self, node, val):\n",
    "        \n",
    "        if not node: \n",
    "            return False\n",
    "        elif node.val > val:\n",
    "            return self.__find_helper(node.left, val)\n",
    "        elif node.val < val:\n",
    "            return self.__find_helper(node.right, val)\n",
    "        elif node.val == val:\n",
    "            return True\n",
    "        \n",
    "        \n",
    "BST = BinarySearchTree()\n",
    "BST.add(5)\n",
    "BST.add(3)\n",
    "BST.add(4)\n",
    "BST.add(7)\n",
    "BST.add(8)\n",
    "\n",
    "print(BST.find(7))"
   ]
  },
  {
   "cell_type": "markdown",
   "metadata": {},
   "source": [
    "# 5.2 Recursive \n",
    "* function call itself"
   ]
  },
  {
   "cell_type": "markdown",
   "metadata": {},
   "source": [
    "### 5.2.1: Time complexity for Recursive\n",
    "* Recursive big O = times of calling function X unit time comsume of each funciton"
   ]
  },
  {
   "cell_type": "code",
   "execution_count": null,
   "metadata": {},
   "outputs": [],
   "source": []
  }
 ],
 "metadata": {
  "kernelspec": {
   "display_name": "Python 3",
   "language": "python",
   "name": "python3"
  },
  "language_info": {
   "codemirror_mode": {
    "name": "ipython",
    "version": 3
   },
   "file_extension": ".py",
   "mimetype": "text/x-python",
   "name": "python",
   "nbconvert_exporter": "python",
   "pygments_lexer": "ipython3",
   "version": "3.8.2"
  }
 },
 "nbformat": 4,
 "nbformat_minor": 4
}
