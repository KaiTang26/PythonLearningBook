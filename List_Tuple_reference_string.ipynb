{
 "cells": [
  {
   "cell_type": "markdown",
   "metadata": {},
   "source": [
    "# What is data structure? (need answer 3 questions)\n",
    "* what type data can save into it?\n",
    "* what structure(tree, map, graph...) used to save data?\n",
    "* what operation we can do for data? (create, read, update, delete)"
   ]
  },
  {
   "cell_type": "markdown",
   "metadata": {},
   "source": [
    "## 3.1: List (array)"
   ]
  },
  {
   "cell_type": "code",
   "execution_count": 1,
   "metadata": {},
   "outputs": [],
   "source": [
    "list_1 = [12, 'kai']"
   ]
  },
  {
   "cell_type": "markdown",
   "metadata": {},
   "source": [
    "### 1. list operation\n",
    "* – (Create): +, *, append, insert, extend\n",
    "* – (Read):   iteration,slice,in,index,count \n",
    "* – (Update): 索引赋值，切片赋值\n",
    "* – (Delete): pop，remove，del\n",
    "* – (other):  len,sort,reverse"
   ]
  },
  {
   "cell_type": "code",
   "execution_count": 9,
   "metadata": {},
   "outputs": [
    {
     "name": "stdout",
     "output_type": "stream",
     "text": [
      "list_add:  [1, 2, 3, 4, 5, 6]\n",
      "list_muti:  [1, 2, 3, 1, 2, 3, 1, 2, 3]\n",
      "list_append:  [1, 2, 3, 'new_value']\n",
      "list_insert:  [4, 'new_value', 5, 6]\n",
      "list extend:  [1, 2, 3, 'new_value', 4, 'new_value', 5, 6]\n"
     ]
    }
   ],
   "source": [
    "# Create\n",
    "\n",
    "list_1 = [1,2,3]\n",
    "list_2 = [4,5,6]\n",
    "\n",
    "# not change exist list and create new list\n",
    "list_add = list_1 + list_2\n",
    "print(\"list_add: \", list_add)\n",
    "\n",
    "# not change exist list and create new list\n",
    "list_muti = list_1 * 3\n",
    "print(\"list_muti: \", list_muti)\n",
    "\n",
    "# change exist list \n",
    "list_1.append('new_value')\n",
    "print(\"list_append: \", list_1)\n",
    "\n",
    "# change exist list \n",
    "list_2.insert(1, 'new_value')\n",
    "print(\"list_insert: \", list_2)\n",
    "\n",
    "# change exist list \n",
    "list_1.extend(list_2);\n",
    "print('list extend: ', list_1)"
   ]
  },
  {
   "cell_type": "code",
   "execution_count": 16,
   "metadata": {},
   "outputs": [
    {
     "name": "stdout",
     "output_type": "stream",
     "text": [
      "first value:  1\n",
      "last value:  9\n",
      "last value:  9\n",
      "from 3rd to 5th (not included 6th) [3, 4, 5, 6]\n"
     ]
    }
   ],
   "source": [
    "#  Read\n",
    "list_1 = [1,2,3,4,5,6,7,8,9]\n",
    "\n",
    "# first value\n",
    "print('first value: ', list_1[0])\n",
    "\n",
    "# both means last value\n",
    "print('last value: ', list_1[-1])\n",
    "print('last value: ',list_1[8])\n",
    "\n",
    "# from 3rd to 5th (not included 6th)\n",
    "print('from 3rd to 5th (not included 6th)', list_1[2:6])"
   ]
  },
  {
   "cell_type": "markdown",
   "metadata": {},
   "source": [
    "### 2. list generator:"
   ]
  },
  {
   "cell_type": "code",
   "execution_count": 17,
   "metadata": {},
   "outputs": [
    {
     "name": "stdout",
     "output_type": "stream",
     "text": [
      "[0, 1, 2, 3, 4, 5, 6, 7, 8, 9, 10, 11, 12, 13, 14, 15, 16, 17, 18, 19, 20, 21, 22, 23, 24, 25, 26, 27, 28, 29, 30, 31, 32, 33, 34, 35, 36, 37, 38, 39, 40, 41, 42, 43, 44, 45, 46, 47, 48, 49, 50, 51, 52, 53, 54, 55, 56, 57, 58, 59, 60, 61, 62, 63, 64, 65, 66, 67, 68, 69, 70, 71, 72, 73, 74, 75, 76, 77, 78, 79, 80, 81, 82, 83, 84, 85, 86, 87, 88, 89, 90, 91, 92, 93, 94, 95, 96, 97, 98, 99, 100]\n"
     ]
    }
   ],
   "source": [
    "# generate a list from 1 to 100\n",
    "\n",
    "result = [i for i in range(101)]\n",
    "\n",
    "print(result)"
   ]
  },
  {
   "cell_type": "code",
   "execution_count": 19,
   "metadata": {},
   "outputs": [
    {
     "name": "stdout",
     "output_type": "stream",
     "text": [
      "[0, 2, 4, 6, 8, 10, 12, 14, 16, 18, 20, 22, 24, 26, 28, 30, 32, 34, 36, 38, 40, 42, 44, 46, 48, 50, 52, 54, 56, 58, 60, 62, 64, 66, 68, 70, 72, 74, 76, 78, 80, 82, 84, 86, 88, 90, 92, 94, 96, 98, 100]\n"
     ]
    }
   ],
   "source": [
    "# generate a list from 1 to 100 event number\n",
    "\n",
    "result = [i for i in range(101) if i%2 ==0]\n",
    "print(result)"
   ]
  },
  {
   "cell_type": "markdown",
   "metadata": {},
   "source": [
    "## 3.2: Tuple (immutable)"
   ]
  },
  {
   "cell_type": "code",
   "execution_count": 20,
   "metadata": {},
   "outputs": [],
   "source": [
    "tuple_1 = (12,'kai')"
   ]
  },
  {
   "cell_type": "code",
   "execution_count": 22,
   "metadata": {},
   "outputs": [
    {
     "name": "stdout",
     "output_type": "stream",
     "text": [
      "3\n",
      "True\n"
     ]
    }
   ],
   "source": [
    "# read\n",
    "\n",
    "tuple_1 = (1,2,3,4,5)\n",
    "\n",
    "print(tuple_1[2])\n",
    "print(1 in tuple_1)"
   ]
  },
  {
   "cell_type": "markdown",
   "metadata": {},
   "source": [
    "## 3.3: reference"
   ]
  },
  {
   "cell_type": "code",
   "execution_count": 33,
   "metadata": {},
   "outputs": [
    {
     "name": "stdout",
     "output_type": "stream",
     "text": [
      "print reference: num id = 4426210304 num_1 id = 4426210304 \n",
      "is used to check reference:  True\n",
      "== used to check value:  True\n",
      "print reference: list_1 = 4513611200 list_2 id = 4513611200 \n",
      "is used to check reference:  True\n",
      "== used to check value:  True\n"
     ]
    }
   ],
   "source": [
    "# get reference for variable using id() function\n",
    "\n",
    "num = 12\n",
    "\n",
    "num_1 = num\n",
    "\n",
    "\n",
    "# pass value\n",
    "\n",
    "print('print reference: num id = {0} num_1 id = {1} '.format(id(num), id(num_1)))\n",
    "\n",
    "print('is used to check reference: ', num is num_1)\n",
    "\n",
    "print('== used to check value: ', num == num_1)\n",
    "\n",
    "\n",
    "\n",
    "list_1 = [1,2,3]\n",
    "\n",
    "list_2 = list_1\n",
    "\n",
    "# pass reference\n",
    "print('print reference: list_1 = {0} list_2 id = {1} '.format(id(list_1), id(list_2)))\n",
    "\n",
    "print('is used to check reference: ', list_1 is list_2)\n",
    "\n",
    "print('== used to check value: ', list_1 == list_2)\n"
   ]
  },
  {
   "cell_type": "markdown",
   "metadata": {},
   "source": [
    "## 3.4: string (immutable)"
   ]
  },
  {
   "cell_type": "code",
   "execution_count": 34,
   "metadata": {},
   "outputs": [
    {
     "name": "stdout",
     "output_type": "stream",
     "text": [
      "poiuytrewq\n"
     ]
    }
   ],
   "source": [
    "# reverse a string\n",
    "\n",
    "str = 'qwertyuiop'\n",
    "\n",
    "re_str= str[::-1]\n",
    "print(re_str)"
   ]
  },
  {
   "cell_type": "code",
   "execution_count": null,
   "metadata": {},
   "outputs": [],
   "source": []
  }
 ],
 "metadata": {
  "kernelspec": {
   "display_name": "Python 3",
   "language": "python",
   "name": "python3"
  },
  "language_info": {
   "codemirror_mode": {
    "name": "ipython",
    "version": 3
   },
   "file_extension": ".py",
   "mimetype": "text/x-python",
   "name": "python",
   "nbconvert_exporter": "python",
   "pygments_lexer": "ipython3",
   "version": "3.8.2"
  }
 },
 "nbformat": 4,
 "nbformat_minor": 4
}
