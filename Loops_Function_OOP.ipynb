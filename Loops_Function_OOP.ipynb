{
 "cells": [
  {
   "cell_type": "markdown",
   "metadata": {},
   "source": [
    "# Loops, Functions, and OOP"
   ]
  },
  {
   "cell_type": "markdown",
   "metadata": {},
   "source": [
    "* Division(/): division results in a floating-point value\n",
    "* Floor Division(//): Divides and returns the integer value of the quotient. It dumps the digits after the decimal."
   ]
  },
  {
   "cell_type": "code",
   "execution_count": 1,
   "metadata": {},
   "outputs": [
    {
     "name": "stdout",
     "output_type": "stream",
     "text": [
      "8 5.0\n"
     ]
    }
   ],
   "source": [
    "num, num2 = 10, 13\n",
    "if num % 2 == 0:\n",
    "    num /= 2\n",
    "    num2 -= 5\n",
    "    num, num2 = num2, num\n",
    "else:\n",
    "    num1 *= 2\n",
    "    num2 += 3\n",
    "print(num, num2)"
   ]
  },
  {
   "cell_type": "markdown",
   "metadata": {},
   "source": [
    "* range(2,6): start with 2, end with 6 but not included 6"
   ]
  },
  {
   "cell_type": "code",
   "execution_count": 4,
   "metadata": {},
   "outputs": [
    {
     "name": "stdout",
     "output_type": "stream",
     "text": [
      "6\n"
     ]
    }
   ],
   "source": [
    "nums = [2, 5, -8, -4, 7, 3]\n",
    "res = 0\n",
    "for i in range(2, 6):\n",
    "    if nums[i] > -6:\n",
    "        res += nums[i]\n",
    "print(res)\n",
    "\n",
    "# -4+7+3 = 6"
   ]
  },
  {
   "cell_type": "code",
   "execution_count": null,
   "metadata": {},
   "outputs": [],
   "source": []
  }
 ],
 "metadata": {
  "kernelspec": {
   "display_name": "Python 3",
   "language": "python",
   "name": "python3"
  },
  "language_info": {
   "codemirror_mode": {
    "name": "ipython",
    "version": 3
   },
   "file_extension": ".py",
   "mimetype": "text/x-python",
   "name": "python",
   "nbconvert_exporter": "python",
   "pygments_lexer": "ipython3",
   "version": "3.7.1"
  }
 },
 "nbformat": 4,
 "nbformat_minor": 2
}
