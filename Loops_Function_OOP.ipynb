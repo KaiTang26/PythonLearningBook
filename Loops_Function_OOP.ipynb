{
 "cells": [
  {
   "cell_type": "markdown",
   "metadata": {},
   "source": [
    "# Loops, Functions, and OOP"
   ]
  },
  {
   "cell_type": "markdown",
   "metadata": {},
   "source": [
    "* Division(/): division results in a floating-point value\n",
    "* Floor Division(//): Divides and returns the integer value of the quotient. It dumps the digits after the decimal."
   ]
  },
  {
   "cell_type": "code",
   "execution_count": 1,
   "metadata": {},
   "outputs": [
    {
     "name": "stdout",
     "output_type": "stream",
     "text": [
      "8 5.0\n"
     ]
    }
   ],
   "source": [
    "num, num2 = 10, 13\n",
    "if num % 2 == 0:\n",
    "    num /= 2\n",
    "    num2 -= 5\n",
    "    num, num2 = num2, num\n",
    "else:\n",
    "    num1 *= 2\n",
    "    num2 += 3\n",
    "print(num, num2)"
   ]
  },
  {
   "cell_type": "markdown",
   "metadata": {},
   "source": [
    "* range(2,6): start with 2, end with 6 but not included 6"
   ]
  },
  {
   "cell_type": "code",
   "execution_count": 4,
   "metadata": {},
   "outputs": [
    {
     "name": "stdout",
     "output_type": "stream",
     "text": [
      "6\n"
     ]
    }
   ],
   "source": [
    "nums = [2, 5, -8, -4, 7, 3]\n",
    "res = 0\n",
    "for i in range(2, 6):\n",
    "    if nums[i] > -6:\n",
    "        res += nums[i]\n",
    "print(res)\n",
    "\n",
    "# -4+7+3 = 6"
   ]
  },
  {
   "cell_type": "markdown",
   "metadata": {},
   "source": [
    "## Class "
   ]
  },
  {
   "cell_type": "markdown",
   "metadata": {},
   "source": [
    "* syntex: __init__ is contruction funciton\n",
    "* in python, there is not overload (method shoud have different name)"
   ]
  },
  {
   "cell_type": "code",
   "execution_count": 6,
   "metadata": {},
   "outputs": [],
   "source": [
    "  class Complex:\n",
    "        def __init__(self, realpart, imagpart):\n",
    "            self.r = realpart\n",
    "            self.i = imagpart"
   ]
  },
  {
   "cell_type": "markdown",
   "metadata": {},
   "source": [
    "## 2.2.1 : control flow - if"
   ]
  },
  {
   "cell_type": "code",
   "execution_count": 2,
   "metadata": {},
   "outputs": [
    {
     "name": "stdout",
     "output_type": "stream",
     "text": [
      "3\n"
     ]
    }
   ],
   "source": [
    "# syntax\n",
    "a = 2\n",
    "b = 3\n",
    "if a>b:\n",
    "    print(a)\n",
    "else:\n",
    "    print(b)"
   ]
  },
  {
   "cell_type": "code",
   "execution_count": 5,
   "metadata": {},
   "outputs": [
    {
     "data": {
      "text/plain": [
       "100"
      ]
     },
     "execution_count": 5,
     "metadata": {},
     "output_type": "execute_result"
    }
   ],
   "source": [
    "# max of 3 number:\n",
    "# Given 3 integers, return the max of them.\n",
    "def maxOfThreeNumber(num1, num2, num3):\n",
    "    maxNum = num1\n",
    "    if(num2>maxNum):\n",
    "        maxNum = num2\n",
    "    if(num3>maxNum):\n",
    "        maxNum = num3\n",
    "    return maxNum\n",
    "\n",
    "maxOfThreeNumber(7,100,3)"
   ]
  },
  {
   "cell_type": "markdown",
   "metadata": {},
   "source": [
    "## 2.2.2 : Loop - while, for"
   ]
  },
  {
   "cell_type": "code",
   "execution_count": 12,
   "metadata": {},
   "outputs": [
    {
     "name": "stdout",
     "output_type": "stream",
     "text": [
      "1 2 3 4 5 6 1 2 3 4 5 6 0 1\n",
      "1 2\n",
      "2 3\n",
      "3 4\n",
      "4 5\n",
      "5 6\n"
     ]
    }
   ],
   "source": [
    "# syntax\n",
    "scores = [1,2,3,4,5,6]\n",
    "\n",
    "for score in scores:\n",
    "    print(score, end=\" \")\n",
    "#     print('score: ', score)\n",
    "\n",
    "for i in range(len(scores)):\n",
    "    print(scores[i], end=\" \")\n",
    "\n",
    "for (i, score) in enumerate(scores):\n",
    "    print(i, score)\n"
   ]
  },
  {
   "cell_type": "code",
   "execution_count": 16,
   "metadata": {},
   "outputs": [
    {
     "name": "stdout",
     "output_type": "stream",
     "text": [
      "1 2 3 4 5 6 7 "
     ]
    }
   ],
   "source": [
    "# while loop syntax\n",
    "\n",
    "scores = [1,2,3,4,5,6,7]\n",
    "i =0;\n",
    "\n",
    "while i<len(scores):\n",
    "    print(scores[i], end=' ')\n",
    "    i+=1"
   ]
  },
  {
   "cell_type": "markdown",
   "metadata": {},
   "source": [
    "# 2.3.1: Function\n",
    "* def: use to define a function\n",
    "* naming: verb_noun"
   ]
  },
  {
   "cell_type": "code",
   "execution_count": 17,
   "metadata": {},
   "outputs": [
    {
     "data": {
      "text/plain": [
       "3"
      ]
     },
     "execution_count": 17,
     "metadata": {},
     "output_type": "execute_result"
    }
   ],
   "source": [
    "# syntax:\n",
    "\n",
    "def calculate_num (num1, num2):\n",
    "    return num1+num2\n",
    "\n",
    "calculate_num(1,2)"
   ]
  },
  {
   "cell_type": "markdown",
   "metadata": {},
   "source": [
    "### python is pass-by-object-reference (not pass-by-reference nor pass-by-value) \n",
    "* for primitive types(int, string, boolean, float), python pass-by-value: change value inside function __not__ change outside;\n",
    "* for reference types(list), python pass-by-reference, change value inside __will__ change outside "
   ]
  },
  {
   "cell_type": "code",
   "execution_count": 1,
   "metadata": {},
   "outputs": [
    {
     "name": "stdout",
     "output_type": "stream",
     "text": [
      "before:  10 12 10 12\n",
      "inside swap:  12 10 12 10\n",
      "after:  10 12 12 10\n"
     ]
    }
   ],
   "source": [
    "def swap(num1, num2, nums):\n",
    "    num1, num2 = num2, num1\n",
    "    nums[0], nums[1] = nums[1], nums[0]\n",
    "    print('inside swap: ', num1, num2, nums[0], nums[1])\n",
    "    \n",
    "num1, num2 = 10, 12\n",
    "nums = [10, 12]\n",
    "print('before: ', num1, num2, nums[0], nums[1])\n",
    "swap(num1, num2, nums)\n",
    "print('after: ',num1, num2, nums[0], nums[1])"
   ]
  },
  {
   "cell_type": "code",
   "execution_count": 25,
   "metadata": {},
   "outputs": [
    {
     "name": "stdout",
     "output_type": "stream",
     "text": [
      "[4, 2, 3, 1]\n"
     ]
    }
   ],
   "source": [
    "#  Swaptwointegersinanarrayusingfunction\n",
    "\n",
    "def swap_num(numArray, index1, index2):\n",
    "    numArray[index1], numArray[index2] = numArray[index2], numArray[index1]\n",
    "    print(numArray)\n",
    "\n",
    "test_array = [1,2,3,4]\n",
    "swap_num(test_array, 0,3)"
   ]
  },
  {
   "cell_type": "markdown",
   "metadata": {},
   "source": [
    "# 2.4 OOP"
   ]
  },
  {
   "cell_type": "markdown",
   "metadata": {},
   "source": [
    "### 1. How to create __Class__ in python"
   ]
  },
  {
   "cell_type": "code",
   "execution_count": 10,
   "metadata": {},
   "outputs": [
    {
     "name": "stdout",
     "output_type": "stream",
     "text": [
      "kai 100\n"
     ]
    }
   ],
   "source": [
    "class Student:\n",
    "\n",
    "# __init__ is a contruction function\n",
    "# self.<property> : indicate class or object property\n",
    "\n",
    "    def __init__(self, name, score):\n",
    "        self.name = name\n",
    "        self.score = score\n",
    "    \n",
    "    def speak(self):\n",
    "        print(self.name, self.score)\n",
    "\n",
    "# create object from class\n",
    "new_student = Student('kai', 100)\n",
    "new_student.speak()"
   ]
  },
  {
   "cell_type": "markdown",
   "metadata": {},
   "source": [
    "### 2. Not Method Overloading (more than one method having the same name) in pythod ! \n",
    "* workaround is using default value:"
   ]
  },
  {
   "cell_type": "code",
   "execution_count": 14,
   "metadata": {},
   "outputs": [
    {
     "name": "stdout",
     "output_type": "stream",
     "text": [
      "kai 100\n",
      "yingyin 0\n"
     ]
    }
   ],
   "source": [
    "class Student:\n",
    "\n",
    "# set default value for score, if not value for score, will use default one.\n",
    "    def __init__(self, name, score=0):\n",
    "        self.name = name\n",
    "        self.score = score\n",
    "    \n",
    "    def speak(self):\n",
    "        print(self.name, self.score)\n",
    "\n",
    "# workaround for method overloading\n",
    "kai_tang = Student('kai', 100)\n",
    "yingyin_huang = Student('yingyin')\n",
    "\n",
    "kai_tang.speak()\n",
    "yingyin_huang.speak()"
   ]
  },
  {
   "cell_type": "markdown",
   "metadata": {},
   "source": [
    "### 3: How to do class property (private public) and object property (private, public) in Python"
   ]
  },
  {
   "cell_type": "code",
   "execution_count": 27,
   "metadata": {},
   "outputs": [
    {
     "name": "stdout",
     "output_type": "stream",
     "text": [
      "kai 100\n",
      "kai\n",
      "100\n",
      "100\n"
     ]
    }
   ],
   "source": [
    "class Student:\n",
    "\n",
    "    def __init__(self, name, score):\n",
    "#   by default, self.<property> is public class and object property\n",
    "        self.name = name\n",
    "#   self.__<property> is private class and object property\n",
    "        self.__score = score\n",
    "    \n",
    "    def speak(self):\n",
    "        print(self.name, self.__score)\n",
    "        \n",
    "    def set_score(self, score):\n",
    "        self.__score = score\n",
    "        \n",
    "    def get_score(self):\n",
    "        return self.__score\n",
    "\n",
    "# create object from class\n",
    "new_student = Student('kai', 100)\n",
    "new_student.speak()\n",
    "\n",
    "# public object property can be access directly\n",
    "print(new_student.name)\n",
    "# can't access __score\n",
    "# print(new_student.__score)\n",
    "\n",
    "# name manging (back door for access private class and object property)\n",
    "print(new_student._Student__score)\n",
    "\n",
    "# use getter to access private value\n",
    "score = new_student.get_score()\n",
    "print(score)"
   ]
  },
  {
   "cell_type": "markdown",
   "metadata": {},
   "source": [
    "### 4: Python Inheritance"
   ]
  },
  {
   "cell_type": "code",
   "execution_count": 35,
   "metadata": {},
   "outputs": [
    {
     "name": "stdout",
     "output_type": "stream",
     "text": [
      "no7_std_name:  haha\n",
      "no40_std_name: lala and score is 90 \n"
     ]
    }
   ],
   "source": [
    "class HighSchoolStudent:\n",
    "    def __init__ (self, name):\n",
    "        self.__name = name\n",
    "    \n",
    "    def get_name(self):\n",
    "        return self.__name\n",
    "\n",
    "# will inherit the properties and methods from the HighSchoolStudent class:\n",
    "# Use the pass keyword when you do not want to add any other properties or methods to the class.\n",
    "class No7HighSchoolStudent(HighSchoolStudent):\n",
    "    pass\n",
    "\n",
    "# The child's __init__() function overrides the inheritance of the parent's __init__() function.\n",
    "class No40HightSchoolStudent(HighSchoolStudent):\n",
    "    def __init__ (self, name, score):\n",
    "# super() function that will make the child class inherit all the methods and properties from its parent\n",
    "        super().__init__(name)\n",
    "        self.__score = score\n",
    "        \n",
    "    def get_score(self):\n",
    "        return self.__score\n",
    "    \n",
    "\n",
    "no7_std = No7HighSchoolStudent('haha')\n",
    "no7_std_name = no7_std.get_name()\n",
    "\n",
    "print('no7_std_name: ', no7_std_name)\n",
    "\n",
    "no40_std = No40HightSchoolStudent('lala', 90)\n",
    "no40_std_name = no40_std.get_name()\n",
    "no40_std_score = no40_std.get_score()\n",
    "\n",
    "print('no40_std_name: {0} and score is {1} '.format(no40_std_name, no40_std_score))\n"
   ]
  },
  {
   "cell_type": "code",
   "execution_count": null,
   "metadata": {},
   "outputs": [],
   "source": []
  }
 ],
 "metadata": {
  "kernelspec": {
   "display_name": "Python 3",
   "language": "python",
   "name": "python3"
  },
  "language_info": {
   "codemirror_mode": {
    "name": "ipython",
    "version": 3
   },
   "file_extension": ".py",
   "mimetype": "text/x-python",
   "name": "python",
   "nbconvert_exporter": "python",
   "pygments_lexer": "ipython3",
   "version": "3.8.2"
  }
 },
 "nbformat": 4,
 "nbformat_minor": 2
}
