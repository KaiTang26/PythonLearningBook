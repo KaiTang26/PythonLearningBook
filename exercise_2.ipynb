{
 "cells": [
  {
   "cell_type": "markdown",
   "metadata": {},
   "source": [
    "## Swap Two Integers in Array\n",
    "\n",
    "Input: `[1,2,3,4]` and index1 = `2`, index2 = `3` <br />\n",
    "Output:The array will change to `[1,2,4,3]` after swapping. You don't need return anything, just swap the integers in-place.<br />\n",
    "Explanation: You don't need return anything, just swap the integers in-place.<br />"
   ]
  },
  {
   "cell_type": "code",
   "execution_count": 1,
   "metadata": {},
   "outputs": [],
   "source": [
    "def swapIntegers(A, index1, index2):\n",
    "    A[index2], A[index1] = A[index1], A[index2]"
   ]
  },
  {
   "cell_type": "code",
   "execution_count": 3,
   "metadata": {},
   "outputs": [
    {
     "name": "stdout",
     "output_type": "stream",
     "text": [
      "[1, 2, 4, 3]\n"
     ]
    }
   ],
   "source": [
    "list_1 = [1,2,3,4]\n",
    "swapIntegers(list_1, 2,3)\n",
    "print(list_1)"
   ]
  },
  {
   "cell_type": "markdown",
   "metadata": {},
   "source": [
    "## Simple Calculator\n",
    "\n",
    "Given two integers a and b, an operator, choices: <br />\n",
    "Example 1:<br />\n",
    "\tInput:  a = 1, b = 2, operator = +<br />\n",
    "\tOutput: 3<br />\n",
    "\t\n",
    "\tExplanation: \n",
    "\treturn the result of : 1 + 2."
   ]
  },
  {
   "cell_type": "code",
   "execution_count": 7,
   "metadata": {},
   "outputs": [],
   "source": [
    "def calculate(a, operator, b):\n",
    "    if operator == '+':\n",
    "        return a + b\n",
    "    elif operator == '-':\n",
    "        return a - b\n",
    "    elif operator == '*':\n",
    "        return a * b\n",
    "    else:\n",
    "        return a // b"
   ]
  },
  {
   "cell_type": "code",
   "execution_count": 8,
   "metadata": {},
   "outputs": [
    {
     "data": {
      "text/plain": [
       "3"
      ]
     },
     "execution_count": 8,
     "metadata": {},
     "output_type": "execute_result"
    }
   ],
   "source": [
    "calculate(1, \"+\", 2)"
   ]
  },
  {
   "cell_type": "markdown",
   "metadata": {},
   "source": [
    "## Setter and Getter\n",
    "Description <br />\n",
    "Implement a class School, including the following attributes and methods:<br />\n",
    "\n",
    "A private attribute name of type string.<br />\n",
    "A setter method setName which expect a parameter name of type string.<br />\n",
    "A getter method getName which expect no parameter and return the name of the school.<br />"
   ]
  },
  {
   "cell_type": "code",
   "execution_count": 15,
   "metadata": {},
   "outputs": [],
   "source": [
    "class School:\n",
    "    def __init__(self):\n",
    "        self.__name = None\n",
    "    \n",
    "    def setName(self, name):\n",
    "        self.__name = name\n",
    "    \n",
    "    def getName(self):\n",
    "        return self.__name\n",
    "        "
   ]
  },
  {
   "cell_type": "code",
   "execution_count": 16,
   "metadata": {},
   "outputs": [
    {
     "data": {
      "text/plain": [
       "'MIT'"
      ]
     },
     "execution_count": 16,
     "metadata": {},
     "output_type": "execute_result"
    }
   ],
   "source": [
    "school = School()\n",
    "school.setName(\"MIT\")\n",
    "school.getName()\n"
   ]
  },
  {
   "cell_type": "markdown",
   "metadata": {},
   "source": [
    "## Max of 3 Numbers\n",
    "Given 3 integers, return the max of them.<br />\n",
    "Example 1:<br />\n",
    "\tInput:  num1 = 1, num2 = 9, num3 = 0<br />\n",
    "\tOutput: 9<br />\n",
    "\t\n",
    "\tExplanation: \n",
    "\treturn the Max of them."
   ]
  },
  {
   "cell_type": "code",
   "execution_count": 20,
   "metadata": {},
   "outputs": [],
   "source": [
    "def maxOfThreeNumbers(num1, num2, num3):\n",
    "    \n",
    "    result = num1\n",
    "    \n",
    "    if num2 > result:\n",
    "        result = num2\n",
    "    \n",
    "    if num3 > result:\n",
    "        result = num3\n",
    "    \n",
    "    return result\n",
    "    "
   ]
  },
  {
   "cell_type": "code",
   "execution_count": 23,
   "metadata": {},
   "outputs": [
    {
     "data": {
      "text/plain": [
       "100"
      ]
     },
     "execution_count": 23,
     "metadata": {},
     "output_type": "execute_result"
    }
   ],
   "source": [
    "maxOfThreeNumbers(100,22,9)"
   ]
  },
  {
   "cell_type": "markdown",
   "metadata": {},
   "source": [
    "##  Palindrome Number\n",
    "Check a positive number is a palindrome or not. <br />\n",
    "A palindrome number is that if you reverse the whole number you will get exactly the same number.<br />\n"
   ]
  },
  {
   "cell_type": "code",
   "execution_count": 48,
   "metadata": {},
   "outputs": [],
   "source": [
    "def isPalindrome(num):\n",
    "    str_num = str(num)\n",
    "    str_num_list = [_ for _ in str_num]\n",
    "    re_str_list = str_num_list[::-1]\n",
    "    re_str = ''.join(map(str, re_str_list)) \n",
    "\n",
    "    if re_str == str_num:\n",
    "        return True\n",
    "    else:\n",
    "        return False\n",
    "        "
   ]
  },
  {
   "cell_type": "code",
   "execution_count": 50,
   "metadata": {},
   "outputs": [
    {
     "data": {
      "text/plain": [
       "True"
      ]
     },
     "execution_count": 50,
     "metadata": {},
     "output_type": "execute_result"
    }
   ],
   "source": [
    "isPalindrome(11)"
   ]
  },
  {
   "cell_type": "markdown",
   "metadata": {},
   "source": [
    "## Second Max of Array\n",
    "\n",
    "Find the second max number in a given array."
   ]
  },
  {
   "cell_type": "code",
   "execution_count": 87,
   "metadata": {},
   "outputs": [],
   "source": [
    "def secondMax(nums):\n",
    "    nums.sort(reverse=True)\n",
    "    return nums[1]\n",
    "        "
   ]
  },
  {
   "cell_type": "code",
   "execution_count": 88,
   "metadata": {},
   "outputs": [
    {
     "data": {
      "text/plain": [
       "3"
      ]
     },
     "execution_count": 88,
     "metadata": {},
     "output_type": "execute_result"
    }
   ],
   "source": [
    "secondMax([1,4,3,2])"
   ]
  },
  {
   "cell_type": "code",
   "execution_count": 91,
   "metadata": {},
   "outputs": [],
   "source": [
    "def secondMax_v2(nums):\n",
    "    first_max = max(nums[0], nums[1])\n",
    "    second_max = min(nums[0], nums[1])\n",
    "    \n",
    "    for i in range(2, len(nums)):\n",
    "        if nums[i]>first_max:\n",
    "            second_max = first_max\n",
    "            first_max = nums[i]\n",
    "        elif nums[i]>second_max:\n",
    "            second_max = nums[i]\n",
    "    return second_max"
   ]
  },
  {
   "cell_type": "code",
   "execution_count": 92,
   "metadata": {},
   "outputs": [
    {
     "data": {
      "text/plain": [
       "3"
      ]
     },
     "execution_count": 92,
     "metadata": {},
     "output_type": "execute_result"
    }
   ],
   "source": [
    "secondMax_v2([1,4,3,2])"
   ]
  },
  {
   "cell_type": "markdown",
   "metadata": {},
   "source": [
    "## Student ID\n",
    "Implement a class Class with the following attributes and methods: <br />\n",
    "\n",
    "* A public attribute students which is a array of Student instances.\n",
    "* A constructor with a parameter n, which is the total number of students in this class. The constructor should create n Student instances and initialized with student id from 0 ~ n-1"
   ]
  },
  {
   "cell_type": "code",
   "execution_count": 71,
   "metadata": {},
   "outputs": [],
   "source": [
    "class Student:\n",
    "    def __init__(self, id):\n",
    "        self.id = id;\n",
    "class Class:\n",
    "    def __init__(self, n):\n",
    "        self.students = [ Student(i) for i in range(n+1)]"
   ]
  },
  {
   "cell_type": "code",
   "execution_count": 75,
   "metadata": {},
   "outputs": [
    {
     "data": {
      "text/plain": [
       "0"
      ]
     },
     "execution_count": 75,
     "metadata": {},
     "output_type": "execute_result"
    }
   ],
   "source": [
    "cls = Class(3)\n",
    "cls.students[0].id"
   ]
  },
  {
   "cell_type": "code",
   "execution_count": null,
   "metadata": {},
   "outputs": [],
   "source": []
  }
 ],
 "metadata": {
  "kernelspec": {
   "display_name": "Python 3",
   "language": "python",
   "name": "python3"
  },
  "language_info": {
   "codemirror_mode": {
    "name": "ipython",
    "version": 3
   },
   "file_extension": ".py",
   "mimetype": "text/x-python",
   "name": "python",
   "nbconvert_exporter": "python",
   "pygments_lexer": "ipython3",
   "version": "3.8.2"
  }
 },
 "nbformat": 4,
 "nbformat_minor": 4
}
