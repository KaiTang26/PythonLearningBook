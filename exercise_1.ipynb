{
 "cells": [
  {
   "cell_type": "markdown",
   "metadata": {},
   "source": [
    "## Reverse a 3-digit integer.\n",
    "\n",
    "Example 1: <br />\n",
    "Input: number = 123 <br />\n",
    "Output: 321 <br />\n",
    "\n",
    "Example 2: <br />\n",
    "Input: number = 900 <br />\n",
    "Output: 9 <br />"
   ]
  },
  {
   "cell_type": "code",
   "execution_count": 13,
   "metadata": {},
   "outputs": [],
   "source": [
    "def reverseInteger(number):\n",
    "    \n",
    "    if not isinstance(number, int):\n",
    "        number = int(number)\n",
    "    \n",
    "    last_dig = number % 10\n",
    "    fist_dig = number // 100\n",
    "    mid_dig = number%100//10\n",
    "    \n",
    "    resutl = last_dig*100+mid_dig*10+fist_dig\n",
    "    return resutl\n"
   ]
  },
  {
   "cell_type": "code",
   "execution_count": 15,
   "metadata": {},
   "outputs": [
    {
     "name": "stdout",
     "output_type": "stream",
     "text": [
      "9\n"
     ]
    }
   ],
   "source": [
    "print(reverseInteger(900))"
   ]
  },
  {
   "cell_type": "markdown",
   "metadata": {},
   "source": [
    "## Leap Year\n",
    "Determine whether year n is a leap year.return true if n is a leap year. <br />\n",
    "Example 1:<br />\n",
    "Input : n = 2008<br />\n",
    "Output : true<br />\n",
    "\n",
    "Example 2:<br />\n",
    "Input : n = 2018<br />\n",
    "Output : false<br />"
   ]
  },
  {
   "cell_type": "code",
   "execution_count": 16,
   "metadata": {},
   "outputs": [],
   "source": [
    "def isLeapYear(n):\n",
    "    \n",
    "    divi_4 = (n % 4) == 0\n",
    "    divi_100 = (n % 100) ==0\n",
    "    divi_400 = (n % 400) ==0\n",
    "    \n",
    "    if (divi_4 and not divi_100) or divi_400:\n",
    "        return True\n",
    "    \n",
    "    return False\n",
    "    "
   ]
  },
  {
   "cell_type": "code",
   "execution_count": 18,
   "metadata": {},
   "outputs": [
    {
     "name": "stdout",
     "output_type": "stream",
     "text": [
      "False\n"
     ]
    }
   ],
   "source": [
    "print(isLeapYear(2018))"
   ]
  },
  {
   "cell_type": "markdown",
   "metadata": {},
   "source": [
    "## Fizz Buzz\n",
    "* when number is divided by 3, print \"fizz\".\n",
    "* when number is divided by 5, print \"buzz\".\n",
    "* when number is divided by both 3 and 5, print \"fizz buzz\".\n",
    "* when number can't be divided by either 3 or 5, print the number itself.\n",
    "\n",
    "### Notes: \n",
    "* True is 1\n",
    "* False is 0\n",
    "* True + Flase = 1, True*2 = 2"
   ]
  },
  {
   "cell_type": "code",
   "execution_count": 42,
   "metadata": {},
   "outputs": [],
   "source": [
    "def fizzBuzz(n):\n",
    "    return [[str(i), 'fizz', 'buzz', 'fizz buzz'][(i%3==0)+(i%5==0)*2] for i in range(1,n+1)]"
   ]
  },
  {
   "cell_type": "code",
   "execution_count": 43,
   "metadata": {},
   "outputs": [
    {
     "data": {
      "text/plain": [
       "['1',\n",
       " '2',\n",
       " 'fizz',\n",
       " '4',\n",
       " 'buzz',\n",
       " 'fizz',\n",
       " '7',\n",
       " '8',\n",
       " 'fizz',\n",
       " 'buzz',\n",
       " '11',\n",
       " 'fizz',\n",
       " '13',\n",
       " '14',\n",
       " 'fizz buzz']"
      ]
     },
     "execution_count": 43,
     "metadata": {},
     "output_type": "execute_result"
    }
   ],
   "source": [
    "fizzBuzz(15)"
   ]
  },
  {
   "cell_type": "code",
   "execution_count": null,
   "metadata": {},
   "outputs": [],
   "source": []
  }
 ],
 "metadata": {
  "kernelspec": {
   "display_name": "Python 3",
   "language": "python",
   "name": "python3"
  },
  "language_info": {
   "codemirror_mode": {
    "name": "ipython",
    "version": 3
   },
   "file_extension": ".py",
   "mimetype": "text/x-python",
   "name": "python",
   "nbconvert_exporter": "python",
   "pygments_lexer": "ipython3",
   "version": "3.8.2"
  }
 },
 "nbformat": 4,
 "nbformat_minor": 4
}
