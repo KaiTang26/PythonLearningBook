{
 "cells": [
  {
   "cell_type": "markdown",
   "metadata": {},
   "source": [
    "# 6.1: Set and Dictionary\n",
    "* Set: no duplicate value\n",
    "* Dictionary: key pair value"
   ]
  },
  {
   "cell_type": "code",
   "execution_count": 5,
   "metadata": {},
   "outputs": [],
   "source": [
    "#  eg for Set\n",
    "set_1 = set([1,2,3])\n",
    "set_2 = {2,3,4}\n",
    "set_2.add(5)\n",
    "set_2.remove(5)\n"
   ]
  },
  {
   "cell_type": "code",
   "execution_count": 6,
   "metadata": {},
   "outputs": [
    {
     "data": {
      "text/plain": [
       "{2, 5}"
      ]
     },
     "execution_count": 6,
     "metadata": {},
     "output_type": "execute_result"
    }
   ],
   "source": [
    "# Set Operation\n",
    "set_2 = {1,2,3}\n",
    "set_3 = {4,5,6}\n",
    "set_2.union(set_3)\n",
    "set_2 | set_3\n",
    "set_1 ={1,3,5}\n",
    "set_2.intersection(set_1)\n",
    "set_2 & set_1\n",
    "set_2.difference(set_1)\n",
    "set_2 - set_1\n",
    "set_2.symmetric_difference(set_1)\n",
    "set_2 ^ set_1"
   ]
  },
  {
   "cell_type": "code",
   "execution_count": 10,
   "metadata": {},
   "outputs": [
    {
     "name": "stdout",
     "output_type": "stream",
     "text": [
      "{'kai': 'good', 'tang': 'man'}\n"
     ]
    }
   ],
   "source": [
    "# eg for dictionary\n",
    "\n",
    "dic_1 = {'key': 1}\n",
    "dic_2 = dict(zip(['kai', 'tang'], ['good', 'man']))\n",
    "print(dic_2)"
   ]
  },
  {
   "cell_type": "code",
   "execution_count": 13,
   "metadata": {},
   "outputs": [
    {
     "data": {
      "text/plain": [
       "{2: 4, 'jiuzhang': 0, 'spam': 2, 'eggs': 3}"
      ]
     },
     "execution_count": 13,
     "metadata": {},
     "output_type": "execute_result"
    }
   ],
   "source": [
    "# create\n",
    "dict_1 ={}\n",
    "dict_3 = dict(zip(['spam', 'eggs'], [2, 3]))\n",
    "dict_1[2] = 4\n",
    "dict_1\n",
    "\n",
    "dict_1['jiuzhang'] = 0\n",
    "dict_1\n",
    "\n",
    "dict_1.update(dict_3)\n",
    "dict_1"
   ]
  },
  {
   "cell_type": "code",
   "execution_count": 18,
   "metadata": {},
   "outputs": [
    {
     "name": "stdout",
     "output_type": "stream",
     "text": [
      "spam 2\n",
      "eggs 3\n"
     ]
    }
   ],
   "source": [
    "# read\n",
    "dict_1 = dict(zip(['spam', 'eggs'], [2, 3]))\n",
    "dict_1.get('spam', 0)\n",
    "dict_1.keys()\n",
    "dict_1.values()\n",
    "dict_1.items()\n",
    "\n",
    "for (key, val) in dict_1.items():\n",
    "    print(key, val)"
   ]
  },
  {
   "cell_type": "code",
   "execution_count": 17,
   "metadata": {},
   "outputs": [
    {
     "data": {
      "text/plain": [
       "{'eggs': 3}"
      ]
     },
     "execution_count": 17,
     "metadata": {},
     "output_type": "execute_result"
    }
   ],
   "source": [
    "# Delete\n",
    "dict_2 = dict(zip(['spam', 'eggs'], [2, 3]))\n",
    "dict_2.pop('spam')\n",
    "dict_2"
   ]
  },
  {
   "cell_type": "code",
   "execution_count": null,
   "metadata": {},
   "outputs": [],
   "source": []
  }
 ],
 "metadata": {
  "kernelspec": {
   "display_name": "Python 3",
   "language": "python",
   "name": "python3"
  },
  "language_info": {
   "codemirror_mode": {
    "name": "ipython",
    "version": 3
   },
   "file_extension": ".py",
   "mimetype": "text/x-python",
   "name": "python",
   "nbconvert_exporter": "python",
   "pygments_lexer": "ipython3",
   "version": "3.8.2"
  }
 },
 "nbformat": 4,
 "nbformat_minor": 4
}
