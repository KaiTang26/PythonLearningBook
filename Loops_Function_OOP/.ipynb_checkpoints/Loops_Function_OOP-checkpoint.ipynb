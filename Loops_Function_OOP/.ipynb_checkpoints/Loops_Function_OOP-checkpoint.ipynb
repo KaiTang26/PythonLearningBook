{
 "cells": [
  {
   "cell_type": "markdown",
   "metadata": {},
   "source": [
    "# Loops, Functions, and OOP"
   ]
  },
  {
   "cell_type": "markdown",
   "metadata": {},
   "source": [
    "* Division(/): division results in a floating-point value\n",
    "* Floor Division(//): Divides and returns the integer value of the quotient. It dumps the digits after the decimal."
   ]
  },
  {
   "cell_type": "code",
   "execution_count": 1,
   "metadata": {},
   "outputs": [
    {
     "name": "stdout",
     "output_type": "stream",
     "text": [
      "8 5.0\n"
     ]
    }
   ],
   "source": [
    "num, num2 = 10, 13\n",
    "if num % 2 == 0:\n",
    "    num /= 2\n",
    "    num2 -= 5\n",
    "    num, num2 = num2, num\n",
    "else:\n",
    "    num1 *= 2\n",
    "    num2 += 3\n",
    "print(num, num2)"
   ]
  },
  {
   "cell_type": "markdown",
   "metadata": {},
   "source": [
    "* range(2,6): start with 2, end with 6 but not included 6"
   ]
  },
  {
   "cell_type": "code",
   "execution_count": 4,
   "metadata": {},
   "outputs": [
    {
     "name": "stdout",
     "output_type": "stream",
     "text": [
      "6\n"
     ]
    }
   ],
   "source": [
    "nums = [2, 5, -8, -4, 7, 3]\n",
    "res = 0\n",
    "for i in range(2, 6):\n",
    "    if nums[i] > -6:\n",
    "        res += nums[i]\n",
    "print(res)\n",
    "\n",
    "# -4+7+3 = 6"
   ]
  },
  {
   "cell_type": "markdown",
   "metadata": {},
   "source": [
    "## Class "
   ]
  },
  {
   "cell_type": "markdown",
   "metadata": {},
   "source": [
    "* syntex: __init__ is contruction funciton\n",
    "* in python, there is not overload (method shoud have different name)"
   ]
  },
  {
   "cell_type": "code",
   "execution_count": 6,
   "metadata": {},
   "outputs": [],
   "source": [
    "  class Complex:\n",
    "        def __init__(self, realpart, imagpart):\n",
    "            self.r = realpart\n",
    "            self.i = imagpart"
   ]
  },
  {
   "cell_type": "markdown",
   "metadata": {},
   "source": [
    "## 2.2.1 : control flow - if"
   ]
  },
  {
   "cell_type": "code",
   "execution_count": 2,
   "metadata": {},
   "outputs": [
    {
     "name": "stdout",
     "output_type": "stream",
     "text": [
      "3\n"
     ]
    }
   ],
   "source": [
    "# syntax\n",
    "a = 2\n",
    "b = 3\n",
    "if a>b:\n",
    "    print(a)\n",
    "else:\n",
    "    print(b)"
   ]
  },
  {
   "cell_type": "code",
   "execution_count": 5,
   "metadata": {},
   "outputs": [
    {
     "data": {
      "text/plain": [
       "100"
      ]
     },
     "execution_count": 5,
     "metadata": {},
     "output_type": "execute_result"
    }
   ],
   "source": [
    "# max of 3 number:\n",
    "# Given 3 integers, return the max of them.\n",
    "def maxOfThreeNumber(num1, num2, num3):\n",
    "    maxNum = num1\n",
    "    if(num2>maxNum):\n",
    "        maxNum = num2\n",
    "    if(num3>maxNum):\n",
    "        maxNum = num3\n",
    "    return maxNum\n",
    "\n",
    "maxOfThreeNumber(7,100,3)"
   ]
  },
  {
   "cell_type": "markdown",
   "metadata": {},
   "source": [
    "## 2.2.2 : Loop - while, for"
   ]
  },
  {
   "cell_type": "code",
   "execution_count": 12,
   "metadata": {},
   "outputs": [
    {
     "name": "stdout",
     "output_type": "stream",
     "text": [
      "1 2 3 4 5 6 1 2 3 4 5 6 0 1\n",
      "1 2\n",
      "2 3\n",
      "3 4\n",
      "4 5\n",
      "5 6\n"
     ]
    }
   ],
   "source": [
    "# syntax\n",
    "scores = [1,2,3,4,5,6]\n",
    "\n",
    "for score in scores:\n",
    "    print(score, end=\" \")\n",
    "#     print('score: ', score)\n",
    "\n",
    "for i in range(len(scores)):\n",
    "    print(scores[i], end=\" \")\n",
    "\n",
    "for (i, score) in enumerate(scores):\n",
    "    print(i, score)\n"
   ]
  },
  {
   "cell_type": "code",
   "execution_count": 16,
   "metadata": {},
   "outputs": [
    {
     "name": "stdout",
     "output_type": "stream",
     "text": [
      "1 2 3 4 5 6 7 "
     ]
    }
   ],
   "source": [
    "# while loop syntax\n",
    "\n",
    "scores = [1,2,3,4,5,6,7]\n",
    "i =0;\n",
    "\n",
    "while i<len(scores):\n",
    "    print(scores[i], end=' ')\n",
    "    i+=1"
   ]
  },
  {
   "cell_type": "markdown",
   "metadata": {},
   "source": [
    "## 2.3.1: Function\n",
    "* def: use to define a function\n",
    "* naming: verb_noun"
   ]
  },
  {
   "cell_type": "code",
   "execution_count": 17,
   "metadata": {},
   "outputs": [
    {
     "data": {
      "text/plain": [
       "3"
      ]
     },
     "execution_count": 17,
     "metadata": {},
     "output_type": "execute_result"
    }
   ],
   "source": [
    "# syntax:\n",
    "\n",
    "def calculate_num (num1, num2):\n",
    "    return num1+num2\n",
    "\n",
    "calculate_num(1,2)"
   ]
  },
  {
   "cell_type": "markdown",
   "metadata": {},
   "source": [
    "* python is pass-by-object-reference (not pass-by-reference nor pass-by-value) 函数自己创建一个新变量"
   ]
  },
  {
   "cell_type": "code",
   "execution_count": 23,
   "metadata": {},
   "outputs": [
    {
     "name": "stdout",
     "output_type": "stream",
     "text": [
      "before:  10 12 10 12\n",
      "inside swap:  12 10 12 10\n",
      "after:  10 12 12 10\n"
     ]
    }
   ],
   "source": [
    "def swap(num1, num2, nums):\n",
    "    num1, num2 = num2, num1\n",
    "    nums[0], nums[1] = nums[1], nums[0]\n",
    "    print('inside swap: ', num1, num2, nums[0], nums[1])\n",
    "    \n",
    "num1, num2 = 10, 12\n",
    "nums = [10, 12]\n",
    "print('before: ', num1, num2, nums[0], nums[1])\n",
    "swap(num1, num2, nums)\n",
    "print('after: ',num1, num2, nums[0], nums[1])"
   ]
  },
  {
   "cell_type": "code",
   "execution_count": 25,
   "metadata": {},
   "outputs": [
    {
     "name": "stdout",
     "output_type": "stream",
     "text": [
      "[4, 2, 3, 1]\n"
     ]
    }
   ],
   "source": [
    "#  Swaptwointegersinanarrayusingfunction\n",
    "\n",
    "def swap_num(numArray, index1, index2):\n",
    "    numArray[index1], numArray[index2] = numArray[index2], numArray[index1]\n",
    "    print(numArray)\n",
    "\n",
    "test_array = [1,2,3,4]\n",
    "swap_num(test_array, 0,3)"
   ]
  },
  {
   "cell_type": "code",
   "execution_count": null,
   "metadata": {},
   "outputs": [],
   "source": []
  }
 ],
 "metadata": {
  "kernelspec": {
   "display_name": "Python 3",
   "language": "python",
   "name": "python3"
  },
  "language_info": {
   "codemirror_mode": {
    "name": "ipython",
    "version": 3
   },
   "file_extension": ".py",
   "mimetype": "text/x-python",
   "name": "python",
   "nbconvert_exporter": "python",
   "pygments_lexer": "ipython3",
   "version": "3.7.1"
  }
 },
 "nbformat": 4,
 "nbformat_minor": 2
}
