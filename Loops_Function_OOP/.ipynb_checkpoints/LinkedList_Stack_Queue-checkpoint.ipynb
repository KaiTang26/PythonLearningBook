{
 "cells": [
  {
   "cell_type": "markdown",
   "metadata": {},
   "source": [
    "# 4.1 Linked list"
   ]
  },
  {
   "cell_type": "markdown",
   "metadata": {},
   "source": [
    "### 4.1.1: Create a linked list\n",
    "* 1: create node class\n",
    "* 2: create linked list class"
   ]
  },
  {
   "cell_type": "code",
   "execution_count": 14,
   "metadata": {},
   "outputs": [
    {
     "name": "stdout",
     "output_type": "stream",
     "text": [
      "2\n"
     ]
    }
   ],
   "source": [
    "# node class\n",
    "\n",
    "class Node:\n",
    "    \n",
    "    def __init__(self, val):\n",
    "        self.val = val\n",
    "        self.next = None\n",
    "\n",
    "# LinkList class\n",
    "class LinkList:\n",
    "    \n",
    "    def __init__(self):\n",
    "        self.head = None\n",
    "        self.tail = None\n",
    "        self.length =0\n",
    "        \n",
    "    def push(self, val):\n",
    "        newNode = Node(val)\n",
    "        if (self.head is None and self.tail is None):\n",
    "            self.head = newNode\n",
    "            self.tail = newNode\n",
    "        else:\n",
    "            self.tail.next = newNode\n",
    "            self.tail = newNode\n",
    "        self.length +=1\n",
    "            \n",
    "            \n",
    "single_list = LinkList()\n",
    "single_list.push('Kai') \n",
    "single_list.push('Tang')\n",
    "print(single_list.length)"
   ]
  },
  {
   "cell_type": "markdown",
   "metadata": {},
   "source": [
    "### 4.1.2: traverse"
   ]
  },
  {
   "cell_type": "code",
   "execution_count": 17,
   "metadata": {},
   "outputs": [
    {
     "name": "stdout",
     "output_type": "stream",
     "text": [
      "['Kai', 'Tang']\n"
     ]
    }
   ],
   "source": [
    "class Node:\n",
    "    \n",
    "    def __init__(self, val):\n",
    "        self.val = val\n",
    "        self.next = None\n",
    "\n",
    "# LinkList class\n",
    "class LinkList:\n",
    "    \n",
    "    def __init__(self):\n",
    "        self.head = None\n",
    "        self.tail = None\n",
    "        self.length =0\n",
    "        \n",
    "    def push(self, val):\n",
    "        newNode = Node(val)\n",
    "        if (self.head is None and self.tail is None):\n",
    "            self.head = newNode\n",
    "            self.tail = newNode\n",
    "        else:\n",
    "            self.tail.next = newNode\n",
    "            self.tail = newNode\n",
    "        self.length +=1\n",
    "\n",
    "# traverse linked list \n",
    "    def traverse(self):\n",
    "        \n",
    "        result=[]\n",
    "    \n",
    "        def helper(node):\n",
    "            if node is None:\n",
    "                return\n",
    "            else:\n",
    "#                 print(node.val)\n",
    "                result.append(node.val)\n",
    "                helper(node.next)\n",
    "        helper(self.head)\n",
    "        return result\n",
    "\n",
    "single_list = LinkList()\n",
    "single_list.push('Kai') \n",
    "single_list.push('Tang')\n",
    "val_list = single_list.traverse()\n",
    "print(val_list)\n",
    "            \n",
    "                \n",
    "        \n",
    "        \n",
    "        "
   ]
  },
  {
   "cell_type": "markdown",
   "metadata": {},
   "source": [
    "### 4.1.3: add(location, value) "
   ]
  },
  {
   "cell_type": "code",
   "execution_count": 37,
   "metadata": {},
   "outputs": [
    {
     "name": "stdout",
     "output_type": "stream",
     "text": [
      "1\n",
      "2\n"
     ]
    }
   ],
   "source": [
    "class Node:\n",
    "    \n",
    "    def __init__(self, val):\n",
    "        self.val = val\n",
    "        self.next = None\n",
    "\n",
    "# LinkList class\n",
    "class LinkList:\n",
    "    \n",
    "    def __init__(self):\n",
    "        self.head = None\n",
    "       \n",
    "    def __traverse(self, index):\n",
    "        count = 0\n",
    "        cur = None\n",
    "        \n",
    "        def helper(node):\n",
    "            nonlocal count\n",
    "            nonlocal cur\n",
    "\n",
    "            if node is None or count == index:\n",
    "                return\n",
    "            else:\n",
    "                count +=1\n",
    "                cur = node\n",
    "                helper(node.next)\n",
    "        \n",
    "        helper(self.head)\n",
    "        return {\n",
    "                'index': count,\n",
    "                'node': cur\n",
    "            }\n",
    "        \n",
    "    def push(self, val):\n",
    "        newNode = Node(val)\n",
    "        if self.head is None:  \n",
    "            self.head = newNode\n",
    "        else:\n",
    "            traverse_result = self.__traverse(-1)\n",
    "            print(traverse_result[\"index\"])\n",
    "            traverse_result[\"node\"].next = newNode\n",
    "        \n",
    "single_list = LinkList()\n",
    "single_list.push('Kai') \n",
    "single_list.push('Tang') \n",
    "single_list.push('Good') \n",
    "\n",
    "\n",
    "\n",
    "           \n",
    "        \n",
    "   "
   ]
  },
  {
   "cell_type": "code",
   "execution_count": null,
   "metadata": {},
   "outputs": [],
   "source": []
  }
 ],
 "metadata": {
  "kernelspec": {
   "display_name": "Python 3",
   "language": "python",
   "name": "python3"
  },
  "language_info": {
   "codemirror_mode": {
    "name": "ipython",
    "version": 3
   },
   "file_extension": ".py",
   "mimetype": "text/x-python",
   "name": "python",
   "nbconvert_exporter": "python",
   "pygments_lexer": "ipython3",
   "version": "3.8.2"
  }
 },
 "nbformat": 4,
 "nbformat_minor": 4
}
