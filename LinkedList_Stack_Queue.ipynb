{
 "cells": [
  {
   "cell_type": "markdown",
   "metadata": {},
   "source": [
    "# 4.1 Linked list"
   ]
  },
  {
   "cell_type": "markdown",
   "metadata": {},
   "source": [
    "### 4.1.1: Create a linked list\n",
    "* 1: create node class\n",
    "* 2: create linked list class"
   ]
  },
  {
   "cell_type": "code",
   "execution_count": 14,
   "metadata": {},
   "outputs": [
    {
     "name": "stdout",
     "output_type": "stream",
     "text": [
      "2\n"
     ]
    }
   ],
   "source": [
    "# node class\n",
    "\n",
    "class Node:\n",
    "    \n",
    "    def __init__(self, val):\n",
    "        self.val = val\n",
    "        self.next = None\n",
    "\n",
    "# LinkList class\n",
    "class LinkList:\n",
    "    \n",
    "    def __init__(self):\n",
    "        self.head = None\n",
    "        self.tail = None\n",
    "        self.length =0\n",
    "        \n",
    "    def push(self, val):\n",
    "        newNode = Node(val)\n",
    "        if (self.head is None and self.tail is None):\n",
    "            self.head = newNode\n",
    "            self.tail = newNode\n",
    "        else:\n",
    "            self.tail.next = newNode\n",
    "            self.tail = newNode\n",
    "        self.length +=1\n",
    "            \n",
    "            \n",
    "single_list = LinkList()\n",
    "single_list.push('Kai') \n",
    "single_list.push('Tang')\n",
    "print(single_list.length)"
   ]
  },
  {
   "cell_type": "markdown",
   "metadata": {},
   "source": [
    "### 4.1.2: traverse"
   ]
  },
  {
   "cell_type": "code",
   "execution_count": 17,
   "metadata": {},
   "outputs": [
    {
     "name": "stdout",
     "output_type": "stream",
     "text": [
      "['Kai', 'Tang']\n"
     ]
    }
   ],
   "source": [
    "class Node:\n",
    "    \n",
    "    def __init__(self, val):\n",
    "        self.val = val\n",
    "        self.next = None\n",
    "\n",
    "# LinkList class\n",
    "class LinkList:\n",
    "    \n",
    "    def __init__(self):\n",
    "        self.head = None\n",
    "        self.tail = None\n",
    "        self.length =0\n",
    "        \n",
    "    def push(self, val):\n",
    "        newNode = Node(val)\n",
    "        if (self.head is None and self.tail is None):\n",
    "            self.head = newNode\n",
    "            self.tail = newNode\n",
    "        else:\n",
    "            self.tail.next = newNode\n",
    "            self.tail = newNode\n",
    "        self.length +=1\n",
    "\n",
    "# traverse linked list \n",
    "    def traverse(self):\n",
    "        \n",
    "        result=[]\n",
    "    \n",
    "        def helper(node):\n",
    "            if node is None:\n",
    "                return\n",
    "            else:\n",
    "#                 print(node.val)\n",
    "                result.append(node.val)\n",
    "                helper(node.next)\n",
    "        helper(self.head)\n",
    "        return result\n",
    "\n",
    "single_list = LinkList()\n",
    "single_list.push('Kai') \n",
    "single_list.push('Tang')\n",
    "val_list = single_list.traverse()\n",
    "print(val_list)\n",
    "            \n",
    "                \n",
    "        \n",
    "        \n",
    "        "
   ]
  },
  {
   "cell_type": "markdown",
   "metadata": {},
   "source": [
    "### 4.1.3: add(location, value)  && delete(location)"
   ]
  },
  {
   "cell_type": "code",
   "execution_count": 48,
   "metadata": {},
   "outputs": [
    {
     "name": "stdout",
     "output_type": "stream",
     "text": [
      "['Kai', 'Tang', 'Good']\n",
      "add*********\n",
      "['Kai', 'Tang', 'man', 'Good']\n",
      "delete*********\n",
      "['Tang', 'man', 'Good']\n"
     ]
    }
   ],
   "source": [
    "class Node:\n",
    "    \n",
    "    def __init__(self, val):\n",
    "        self.val = val\n",
    "        self.next = None\n",
    "\n",
    "# LinkList class\n",
    "class LinkList:\n",
    "    \n",
    "    def __init__(self):\n",
    "        self.head = None\n",
    "       \n",
    "    def __traverse(self, node, count, index):\n",
    "        if node.next is None or count == index:      \n",
    "            return node\n",
    "        else:    \n",
    "            count +=1    \n",
    "            return self.__traverse(node.next, count, index)\n",
    "                \n",
    "        \n",
    "    def push(self, val):\n",
    "        newNode = Node(val)\n",
    "        if self.head is None:  \n",
    "            self.head = newNode\n",
    "        else:\n",
    "            traverse_result = self.__traverse(self.head,0,-1)\n",
    "            traverse_result.next = newNode\n",
    "            \n",
    "    def add(self, location, val):\n",
    "        new_node = Node(val)\n",
    "        \n",
    "        if(location==0):\n",
    "            new_node.next = self.head\n",
    "            self.head = new_node\n",
    "        else:\n",
    "            pre = self.__traverse(self.head,0,location-1)\n",
    "            new_node.next = pre.next\n",
    "            pre.next = new_node\n",
    "            \n",
    "    def delete(self, location):\n",
    "        \n",
    "        if location ==0:\n",
    "            self.head = self.head.next\n",
    "        else:\n",
    "            pre = self.__traverse(self.head,0,location-1)\n",
    "            pre.next = pre.next.next\n",
    "    \n",
    "    def show(self):\n",
    "        result =[]\n",
    "        cur = self.head\n",
    "        \n",
    "        while cur is not None:\n",
    "            result.append(cur.val)\n",
    "            cur = cur.next\n",
    "        return result\n",
    "        \n",
    "        \n",
    "        \n",
    "        \n",
    "        \n",
    "        \n",
    "        \n",
    "single_list = LinkList()\n",
    "single_list.push('Kai') \n",
    "single_list.push('Tang') \n",
    "single_list.push('Good') \n",
    "\n",
    "result = single_list.show()\n",
    "print(result)\n",
    "print('add*********')\n",
    "single_list.add(2, 'man')\n",
    "result = single_list.show()\n",
    "print(result)\n",
    "print('delete*********')\n",
    "single_list.delete(0)\n",
    "result = single_list.show()\n",
    "print(result)\n"
   ]
  },
  {
   "cell_type": "markdown",
   "metadata": {},
   "source": [
    "# 4.2 Stack\n",
    "* last in first out\n",
    "* list end as stack head"
   ]
  },
  {
   "cell_type": "code",
   "execution_count": 49,
   "metadata": {},
   "outputs": [
    {
     "name": "stdout",
     "output_type": "stream",
     "text": [
      "second\n"
     ]
    }
   ],
   "source": [
    "# use list for stack\n",
    "\n",
    "# stack push\n",
    "stack = []\n",
    "stack.append('first')\n",
    "stack.append('second')\n",
    "\n",
    "# stack pop\n",
    "ele = stack.pop()\n",
    "print(ele)\n"
   ]
  },
  {
   "cell_type": "markdown",
   "metadata": {},
   "source": [
    "### 4.2.1: what is Call Stack\n",
    "A call stack is a mechanism for an interpreter (like the JavaScript interpreter in a web browser) to keep track of its place in a script that calls multiple functions — what function is currently being run and what functions are called from within that function, etc."
   ]
  },
  {
   "cell_type": "markdown",
   "metadata": {},
   "source": [
    "# 4.3 Queue\n",
    "* first in first out"
   ]
  },
  {
   "cell_type": "markdown",
   "metadata": {},
   "source": [
    "### 4.3.1. Queue operation\n",
    "* put(val): add into Queue\n",
    "* get(): out of Queue\n",
    "* qsize(): output element in Queue\n",
    "* empty(): check does this queue is empty"
   ]
  },
  {
   "cell_type": "markdown",
   "metadata": {},
   "source": [
    "### 4.3.2 use Python default Queue"
   ]
  },
  {
   "cell_type": "code",
   "execution_count": 52,
   "metadata": {},
   "outputs": [
    {
     "data": {
      "text/plain": [
       "1"
      ]
     },
     "execution_count": 52,
     "metadata": {},
     "output_type": "execute_result"
    }
   ],
   "source": [
    "from queue import Queue\n",
    "\n",
    "# generate a queue instance\n",
    "que = Queue()\n",
    "# add into Queue\n",
    "que.put(1)\n",
    "# out of Queue\n",
    "que.get()"
   ]
  },
  {
   "cell_type": "markdown",
   "metadata": {},
   "source": [
    "### what is Message Queue\n",
    "A message queue is a form of asynchronous service-to-service communication used in serverless and microservices architectures. Messages are stored on the queue until they are processed and deleted. Each message is processed only once, by a single consumer. Message queues can be used to decouple heavyweight processing, to buffer or batch work, and to smooth spiky workloads."
   ]
  },
  {
   "cell_type": "code",
   "execution_count": null,
   "metadata": {},
   "outputs": [],
   "source": []
  }
 ],
 "metadata": {
  "kernelspec": {
   "display_name": "Python 3",
   "language": "python",
   "name": "python3"
  },
  "language_info": {
   "codemirror_mode": {
    "name": "ipython",
    "version": 3
   },
   "file_extension": ".py",
   "mimetype": "text/x-python",
   "name": "python",
   "nbconvert_exporter": "python",
   "pygments_lexer": "ipython3",
   "version": "3.8.2"
  }
 },
 "nbformat": 4,
 "nbformat_minor": 4
}
